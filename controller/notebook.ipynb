{
 "cells": [
  {
   "cell_type": "markdown",
   "metadata": {},
   "source": [
    "##### NB: This is Strictly for visualization of the data"
   ]
  },
  {
   "cell_type": "code",
   "execution_count": null,
   "metadata": {},
   "outputs": [],
   "source": [
    "import warnings\n",
    "warnings.filterwarnings('ignore')\n",
    "import pandas as pd\n",
    "from sklearn.preprocessing import LabelEncoder\n"
   ]
  },
  {
   "cell_type": "code",
   "execution_count": null,
   "metadata": {},
   "outputs": [],
   "source": [
    "DATA_FRAME=pd.read_csv(\"../data/yield_df.csv\")"
   ]
  },
  {
   "cell_type": "code",
   "execution_count": null,
   "metadata": {},
   "outputs": [],
   "source": [
    "DATA_FRAME.describe().T"
   ]
  },
  {
   "cell_type": "code",
   "execution_count": null,
   "metadata": {},
   "outputs": [],
   "source": [
    "DATA_FRAME.drop(\"Unnamed: 0\", axis=1,inplace=True)\n",
    "DATA_FRAME"
   ]
  },
  {
   "cell_type": "code",
   "execution_count": null,
   "metadata": {},
   "outputs": [],
   "source": [
    "# remove countries with less than 100 record\n",
    "country_counts =DATA_FRAME['Area'].value_counts()\n",
    "countries_to_drop = country_counts[country_counts < 100].index.tolist()\n",
    "df_filtered = DATA_FRAME[~DATA_FRAME['Area'].isin(countries_to_drop)]\n",
    "DATA_FRAME = df_filtered.reset_index(drop=True)"
   ]
  },
  {
   "cell_type": "code",
   "execution_count": null,
   "metadata": {},
   "outputs": [],
   "source": [
    "COPY_DF=DATA_FRAME.copy()\n",
    "\n",
    "\n",
    "categorical_columns = COPY_DF.select_dtypes(include=['object']).columns.tolist()\n",
    "label_encoder = LabelEncoder()\n",
    "for column in categorical_columns:\n",
    "    COPY_DF[column] = label_encoder.fit_transform(COPY_DF[column])\n",
    "\n",
    "COPY_DF"
   ]
  },
  {
   "cell_type": "code",
   "execution_count": null,
   "metadata": {},
   "outputs": [],
   "source": [
    "from sklearn.linear_model import LinearRegression\n",
    "from sklearn.ensemble import RandomForestRegressor, GradientBoostingRegressor \n",
    "from sklearn.metrics import mean_squared_error, r2_score, mean_absolute_error, mean_absolute_percentage_error\n",
    "from xgboost import XGBRegressor\n",
    "from sklearn.model_selection import train_test_split\n",
    "from sklearn.preprocessing import LabelEncoder, StandardScaler\n",
    "from sklearn.model_selection import cross_val_score\n",
    "from sklearn.model_selection import KFold\n",
    "from sklearn.neighbors import KNeighborsRegressor\n",
    "from sklearn.tree import DecisionTreeRegressor\n",
    "from sklearn.ensemble import BaggingRegressor"
   ]
  },
  {
   "cell_type": "code",
   "execution_count": null,
   "metadata": {},
   "outputs": [],
   "source": [
    "X, y = COPY_DF.drop(labels='hg/ha_yield', axis=1), COPY_DF['hg/ha_yield']\n",
    "X_train, X_test, y_train, y_test = train_test_split(X, y, test_size=0.3, random_state=42)"
   ]
  },
  {
   "cell_type": "code",
   "execution_count": null,
   "metadata": {},
   "outputs": [],
   "source": [
    "results = []\n",
    "\n",
    "models = [\n",
    "    ('Linear Regression', LinearRegression()),\n",
    "    ('Random Forest', RandomForestRegressor(random_state=42)),\n",
    "    ('Gradient Boost', GradientBoostingRegressor(n_estimators=100, learning_rate=0.1, max_depth=3,random_state=42)),\n",
    "    ('XGBoost', XGBRegressor(random_state=42)),\n",
    "    ('KNN',KNeighborsRegressor(n_neighbors=5)),\n",
    "    ('Decision Tree',DecisionTreeRegressor(random_state=42)),\n",
    "    ('Bagging Regressor',BaggingRegressor(n_estimators=150, random_state=42))\n",
    "]\n",
    "\n",
    "for name, model in models:\n",
    "    model.fit(X_train, y_train)\n",
    "    y_pred = model.predict(X_test)\n",
    "    accuracy = model.score(X_test, y_test)\n",
    "    MSE = mean_squared_error(y_test, y_pred)\n",
    "    R2_score = r2_score(y_test, y_pred)\n",
    "    results.append((name, accuracy, MSE, R2_score))\n",
    "    acc = (model.score(X_train , y_train)*100)\n",
    "    print(f'The accuracy of the {name} Model Train is {acc:.2f}')\n",
    "    acc =(model.score(X_test , y_test)*100)\n",
    "    print(f'The accuracy of the  {name} Model Test is {acc:.2f}')\n",
    "    print(\"----------------------------------------------------------------------\")\n",
    "\n",
    "dff = pd.DataFrame(results, columns=['Model', 'Accuracy', 'MSE', 'R2_score'])\n",
    "df_styled_best = dff.style.highlight_max(subset=['Accuracy','R2_score'], color='green').highlight_min(subset=['MSE'], color='green').highlight_max(subset=['MSE'], color='red').highlight_min(subset=['Accuracy','R2_score'], color='red')\n",
    "\n",
    "display(df_styled_best)\n"
   ]
  },
  {
   "cell_type": "code",
   "execution_count": null,
   "metadata": {},
   "outputs": [],
   "source": [
    "#Creating persistent model:\n",
    "import joblib\n",
    "\n",
    "# Learning with the Model\n",
    "X, y = COPY_DF.drop(labels='hg/ha_yield', axis=1), COPY_DF['hg/ha_yield']\n",
    "\n",
    "\n",
    "scaler = StandardScaler()\n",
    "X_train_scaled = scaler.fit_transform(X_train)\n",
    "X_test_scaled = scaler.transform(X_test)\n",
    "joblib.dump(model, 'standard-scaler.joblib')\n",
    "\n",
    "\n",
    "\n",
    "model= BaggingRegressor(n_estimators=150, random_state=42)\n",
    "model.fit(X.values, y)\n",
    "\n",
    "#Create a Persisting Model\n",
    "joblib.dump(model, 'crop-predictor.joblib')\n",
    "\n"
   ]
  },
  {
   "cell_type": "code",
   "execution_count": null,
   "metadata": {},
   "outputs": [],
   "source": [
    "import pandas as pd\n",
    "import joblib\n",
    "# \tArea\tItem\tYear\thg/ha_yield\taverage_rain_fall_mm_per_year\tpesticides_tonnes\tavg_temp\n",
    "\n",
    "# Testing created model:\n",
    "\n",
    "scaler = joblib.load('standard-scaler.joblib')\n",
    "\n",
    "scaled_inputs = [[100,5,2013,657.0,2550.07,19.76]]\n",
    "\n",
    "model=joblib.load('crop-predictor.joblib')\n",
    "predictions = model.predict(scaled_inputs)\n",
    "\n",
    "print(\"Prediction:\",predictions)"
   ]
  }
 ],
 "metadata": {
  "kernelspec": {
   "display_name": "Python 3",
   "language": "python",
   "name": "python3"
  },
  "language_info": {
   "codemirror_mode": {
    "name": "ipython",
    "version": 3
   },
   "file_extension": ".py",
   "mimetype": "text/x-python",
   "name": "python",
   "nbconvert_exporter": "python",
   "pygments_lexer": "ipython3",
   "version": "3.12.7"
  }
 },
 "nbformat": 4,
 "nbformat_minor": 2
}
